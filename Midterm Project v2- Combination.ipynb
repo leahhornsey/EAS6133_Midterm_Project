{
 "cells": [
  {
   "cell_type": "code",
   "execution_count": 1,
   "id": "7fba6cc5",
   "metadata": {},
   "outputs": [],
   "source": [
    "import numpy as np\n",
    "import matplotlib.pyplot as plt\n",
    "from scipy.integrate import odeint\n",
    "from scipy.integrate import solve_ivp\n",
    "import pandas as pd\n",
    "import statistics as st"
   ]
  },
  {
   "cell_type": "code",
   "execution_count": 2,
   "id": "75cda2a3",
   "metadata": {},
   "outputs": [],
   "source": [
    "# coefficients\n",
    "h = 1 # timestep size\n",
    "t = np.arange(0,360,h) # time in day\n",
    "N = np.size(t) # dimension of time step\n",
    "nuto = .001 # initial condition for nutrient\n",
    "phyo = .001 # initial condition for phyto\n",
    "zooo = .001 # initial condition for zoo\n",
    "deto = .001\n",
    "# set parameters\n",
    "Vmax = 0.851*(1.066)**(16.1+1.5) # per day\n",
    "K = 0.1 # mmol/m3\n",
    "Kp= 2.8 # mmol/m3\n",
    "a = 0.4\n",
    "g = 1.4 # per day\n",
    "lp = 0.05 # per day\n",
    "lz = 0.12 # per day\n",
    "ld = 0.05\n",
    "c = 0.01 * 0.65 # per day\n",
    "Nth = 10 # mmol/m3\n",
    "Wsink = 20\n",
    "hml = 50"
   ]
  },
  {
   "cell_type": "code",
   "execution_count": 3,
   "id": "c5b7d287",
   "metadata": {},
   "outputs": [
    {
     "data": {
      "image/png": "[encoded data removed]",
      "text/plain": [
       "<Figure size 432x288 with 1 Axes>"
      ]
     },
     "metadata": {
      "needs_background": "light"
     },
     "output_type": "display_data"
    }
   ],
   "source": [
    "count=0\n",
    "nut_arr=np.zeros(np.size(Vmax))\n",
    "phy_arr=np.zeros(np.size(Vmax))\n",
    "zoo_arr=np.zeros(np.size(Vmax))\n",
    "det_arr=np.zeros(np.size(Vmax))\n",
    "\n",
    "def tendency(t,x,Vmax,K,Kp,a,g,lp,lz,ld,c,Nth,hml,Wsink):\n",
    "    nut=x[0]\n",
    "    phy=x[1]\n",
    "    zoo=x[2]\n",
    "    det=x[3]\n",
    "    dnutdt = -Vmax*nut/(nut+K)*phy -c*(nut-Nth) + ld*det  #add a runoff term mmol/m^3/day\n",
    "    dphydt = Vmax*nut/(nut+K)*phy - zoo*g*phy/Kp - lp*phy\n",
    "    dzoodt = a*zoo*g*phy/Kp -lz*zoo\n",
    "    ddetdt = lp*phy+lz*zoo+(1-a)*g*phy*zoo/Kp -ld*det-Wsink/hml*det\n",
    "    out=np.array([dnutdt,dphydt,dzoodt,ddetdt])\n",
    "    return out\n",
    "    \n",
    "    # define model_run function\n",
    "def model_run(trange,xinit,param,dt):\n",
    "    # expand input\n",
    "    i = param[0]\n",
    "    K = param[1]\n",
    "    Kp= param[2]\n",
    "    a = param[3]\n",
    "    g = param[4]\n",
    "    lp= param[5]\n",
    "    lz= param[6]\n",
    "    ld= param[7]\n",
    "    c = param[8]\n",
    "    Nth= param[9]\n",
    "    hml= param[10]\n",
    "    Wsink=param[11]\n",
    "    sol = solve_ivp(tendency,trange,xinit,args=(Vmax,K,Kp,a,g,lp,lz,ld,c,Nth,hml,Wsink),method='RK45',max_step=dt)\n",
    "    return sol\n",
    "    \n",
    "# set time range\n",
    "trange = [0,500]\n",
    "# set parameters\n",
    "param=np.array([Vmax,K,Kp,a,g,lp,lz,ld,c,Nth,hml,Wsink])\n",
    "# set initial conditions\n",
    "xinit = np.array([nuto,phyo,zooo,deto])\n",
    "# time step size\n",
    "h = 1\n",
    "out = model_run(trange,xinit,param,h)\n",
    "    \n",
    "# plot the output\n",
    "t_out = out.t\n",
    "vec_out = out.y\n",
    "N_out = vec_out[0,:]\n",
    "P_out = vec_out[1,:]\n",
    "Z_out = vec_out[2,:]\n",
    "D_out = vec_out[3,:]\n",
    "#\n",
    "plt.plot(t_out,N_out,label='Nutrient')\n",
    "plt.plot(t_out,P_out,label='Phyto')\n",
    "plt.plot(t_out,Z_out,label='Zoo')\n",
    "plt.plot(t_out,D_out,label='Detritus')\n",
    "plt.legend()\n",
    "plt.xlabel('time, day')\n",
    "plt.ylabel('nutrient, plankton, mmol/m3')\n",
    "plt.show()\n",
    "    \n",
    "nut_arr[count]=np.mean(N_out[-10:])\n",
    "phy_arr[count]=np.mean(P_out[-10:])\n",
    "zoo_arr[count]=np.mean(Z_out[-10:])\n",
    "det_arr[count]=np.mean(D_out[-10:])\n",
    "count=count+1\n",
    "        "
   ]
  },
  {
   "cell_type": "code",
   "execution_count": null,
   "id": "4b6cadfd",
   "metadata": {},
   "outputs": [],
   "source": []
  },
  {
   "cell_type": "code",
   "execution_count": null,
   "id": "5bd7d93d",
   "metadata": {},
   "outputs": [],
   "source": []
  }
 ],
 "metadata": {
  "kernelspec": {
   "display_name": "Python 3",
   "language": "python",
   "name": "python3"
  },
  "language_info": {
   "codemirror_mode": {
    "name": "ipython",
    "version": 3
   },
   "file_extension": ".py",
   "mimetype": "text/x-python",
   "name": "python",
   "nbconvert_exporter": "python",
   "pygments_lexer": "ipython3",
   "version": "3.9.11"
  }
 },
 "nbformat": 4,
 "nbformat_minor": 5
}
